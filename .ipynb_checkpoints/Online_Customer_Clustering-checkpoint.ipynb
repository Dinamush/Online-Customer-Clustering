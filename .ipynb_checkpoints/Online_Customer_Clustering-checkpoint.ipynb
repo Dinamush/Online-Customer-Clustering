{
 "cells": [
  {
   "cell_type": "code",
   "execution_count": null,
   "id": "72bb52aa-aa93-46d9-a7cb-1b4064a01d2d",
   "metadata": {},
   "outputs": [],
   "source": [
    "import os"
   ]
  }
 ],
 "metadata": {
  "kernelspec": {
   "display_name": "Python 3 (ipykernel)",
   "language": "python",
   "name": "python3"
  },
  "language_info": {
   "codemirror_mode": {
    "name": "ipython",
    "version": 3
   },
   "file_extension": ".py",
   "mimetype": "text/x-python",
   "name": "python",
   "nbconvert_exporter": "python",
   "pygments_lexer": "ipython3",
   "version": "3.10.9"
  }
 },
 "nbformat": 4,
 "nbformat_minor": 5
}
